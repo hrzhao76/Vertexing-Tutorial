{
 "cells": [
  {
   "cell_type": "code",
   "execution_count": 1,
   "id": "538b631f-267b-4cbc-95cb-598eb1617227",
   "metadata": {},
   "outputs": [
    {
     "name": "stdout",
     "output_type": "stream",
     "text": [
      "Welcome to JupyROOT 6.24/04\n"
     ]
    }
   ],
   "source": [
    "import uproot3\n",
    "import numpy as np\n",
    "import ROOT"
   ]
  },
  {
   "cell_type": "code",
   "execution_count": 2,
   "id": "a4d540e6-d641-4f0a-ae9e-dfcd64518cc3",
   "metadata": {},
   "outputs": [],
   "source": [
    "file = uproot3.open(\"Sample/vertexperformance_AMVF.root\")"
   ]
  },
  {
   "cell_type": "code",
   "execution_count": 3,
   "id": "a03c46ef-fb24-41e9-8dc1-96f6c05f805f",
   "metadata": {},
   "outputs": [
    {
     "data": {
      "text/plain": [
       "[b'Truth_Vertex_PV_Selected;6',\n",
       " b'Truth_Vertex_PV_Selected;5',\n",
       " b'Reco_Vertex;4',\n",
       " b'Reco_Vertex;3',\n",
       " b'amvf;1']"
      ]
     },
     "execution_count": 3,
     "metadata": {},
     "output_type": "execute_result"
    }
   ],
   "source": [
    "file.keys()"
   ]
  },
  {
   "cell_type": "code",
   "execution_count": 4,
   "id": "e69b6de9-2c5a-4763-8e0e-83181c788d77",
   "metadata": {},
   "outputs": [],
   "source": [
    "truth_tree_arrays = file[\"Truth_Vertex_PV_Selected\"].arrays(namedecode=\"utf-8\")\n",
    "reco_tree_arrays = file[\"Reco_Vertex\"].arrays(namedecode=\"utf-8\")"
   ]
  },
  {
   "cell_type": "code",
   "execution_count": 5,
   "id": "8e1e3713-2b7d-4f71-bc7a-dbc8809421f9",
   "metadata": {},
   "outputs": [],
   "source": [
    "def Get_ind_best_reco_HS_sum_pt2(reco_tree_arrays, i_event):\n",
    "    # Return the index of the best reconstructed HS via sum of pt^2 method \n",
    "    trk_pt_sq = ((1./reco_tree_arrays[\"reco_vtx_fitted_trk_qp\"][i_event])*np.sin(reco_tree_arrays[\"reco_vtx_fitted_trk_theta\"][i_event]) )**2\n",
    "    n_vtx = len(reco_tree_arrays[\"reco_vtx_vz\"][i_event])\n",
    "    \n",
    "    vtx_trk_pt_sq_sum = np.zeros(n_vtx)\n",
    "    for i in range(n_vtx):\n",
    "        vtx_trk_pt_sq_sum[i] = trk_pt_sq[reco_tree_arrays[\"reco_vtx_fitted_trk_vtxID\"][i_event] == i].sum()\n",
    "    \n",
    "#     print(vtx_trk_pt_sqrt_sum)\n",
    "    \n",
    "    return vtx_trk_pt_sq_sum.argmax()"
   ]
  },
  {
   "cell_type": "code",
   "execution_count": 6,
   "id": "1619d60b-289d-4476-8244-da5e201be8d0",
   "metadata": {},
   "outputs": [],
   "source": [
    "def Get_local_PU_density(truth_tree_arrays, i_event, xyz_dist_window = 2.0):\n",
    "    # Calculate the PU density around the truth HS vertex \n",
    "    truth_vtx_vx = truth_tree_arrays[\"truth_vtx_vx\"][i_event]\n",
    "    truth_vtx_vy = truth_tree_arrays[\"truth_vtx_vy\"][i_event]\n",
    "    truth_vtx_vz = truth_tree_arrays[\"truth_vtx_vz\"][i_event]\n",
    "    \n",
    "    dist_to_truth_HS = (truth_vtx_vx - truth_vtx_vx[0])**2 +(truth_vtx_vy - truth_vtx_vy[0])**2 + (truth_vtx_vz - truth_vtx_vz[0])**2 \n",
    "    n_local_truth = len(np.where(dist_to_truth_HS< 2.0**2))\n",
    "    return (n_local_truth - 1)/(2 * xyz_dist_window)\n",
    "#     return local_PU_density \n",
    "    \n",
    "    \n",
    "    "
   ]
  },
  {
   "cell_type": "code",
   "execution_count": 7,
   "id": "6d1fb300-3c29-48f1-946a-d97ad7a1e379",
   "metadata": {},
   "outputs": [
    {
     "name": "stdout",
     "output_type": "stream",
     "text": [
      "CPU times: user 23.2 s, sys: 411 ms, total: 23.6 s\n",
      "Wall time: 23.4 s\n"
     ]
    }
   ],
   "source": [
    "%%time\n",
    "\n",
    "canvas = ROOT.TCanvas()\n",
    "hs_reco_eff = ROOT.TEfficiency(\"hs_reco_eff\", \"HS Reconstruction Efficiency; Local PU density; eff\", 12, 0, 6)\n",
    "hs_sel_eff = ROOT.TEfficiency(\"hs_sel_eff\", \"HS selection and Reconstruction Efficiency; Local PU density; eff\", 12, 0, 6)\n",
    "\n",
    "\n",
    "whole_match_matrix = []\n",
    "# In the future, whole_match_matrix will be used to classify \n",
    "\n",
    "for i_event in range(len(reco_tree_arrays[\"event_id\"])):\n",
    "# for i_event in range(100):\n",
    "\n",
    "    truth_vtx_vz = truth_tree_arrays[\"truth_vtx_vz\"][i_event]\n",
    "    reco_vtx_vz = reco_tree_arrays[\"reco_vtx_vz\"][i_event]\n",
    "    match_matrix = np.zeros((len(reco_vtx_vz),len(truth_vtx_vz)))\n",
    "    # declare the truth-mathing matrix as a list, filled in the next 2 loops \n",
    "    # Can be normalized \n",
    "\n",
    "    for i in range(len(reco_vtx_vz)):\n",
    "        for j in range(len(truth_vtx_vz)):\n",
    "            test_truth = truth_tree_arrays[\"truth_vtx_fitted_trk_z0\"][i_event][truth_tree_arrays[\"truth_vtx_fitted_trk_vtxID\"][i_event] == j]\n",
    "            test_reco = reco_tree_arrays[\"reco_vtx_fitted_trk_z0\"][i_event][reco_tree_arrays[\"reco_vtx_fitted_trk_vtxID\"][i_event] == i]\n",
    "            match_matrix[i,j] = len(np.intersect1d(test_reco, test_truth))\n",
    "            \n",
    "    whole_match_matrix.append(match_matrix)\n",
    "    \n",
    "    \n",
    "    # Find the index of best reco HS via 2 ways \n",
    "    ind_best_reco_HS_nTrk = match_matrix[:,0].argmax()\n",
    "    ind_best_reco_HS_sumpt2 = Get_ind_best_reco_HS_sum_pt2(reco_tree_arrays, i_event)\n",
    "    \n",
    "    dist_best_reco_to_truth_HS_sq = (reco_tree_arrays[\"reco_vtx_vx\"][i_event][ind_best_reco_HS_nTrk] - truth_tree_arrays[\"truth_vtx_vx\"][i_event][0])**2 + (reco_tree_arrays[\"reco_vtx_vy\"][i_event][ind_best_reco_HS_nTrk] - truth_tree_arrays[\"truth_vtx_vy\"][i_event][0])**2 + (reco_tree_arrays[\"reco_vtx_vz\"][i_event][ind_best_reco_HS_nTrk] - truth_tree_arrays[\"truth_vtx_vz\"][i_event][0])**2 \n",
    "    trhth_HS_vtx_recoed = False\n",
    "    if dist_best_reco_to_truth_HS_sq < (0.1 ** 2):\n",
    "        trhth_HS_vtx_recoed = True\n",
    "\n",
    "    trhth_HS_vtx_seled = (bool)(ind_best_reco_HS_nTrk == ind_best_reco_HS_sumpt2)\n",
    "\n",
    "    \n",
    "    local_PU_density = Get_local_PU_density(truth_tree_arrays, i_event)\n",
    "    hs_reco_eff.Fill(trhth_HS_vtx_recoed, local_PU_density)\n",
    "    hs_sel_eff.Fill(trhth_HS_vtx_recoed and trhth_HS_vtx_seled, local_PU_density)\n",
    "    "
   ]
  },
  {
   "cell_type": "code",
   "execution_count": 8,
   "id": "3162fee8-9fd0-4a9c-a1bd-79c3679e1df1",
   "metadata": {},
   "outputs": [
    {
     "data": {
      "image/png": "[encoded data removed]",
      "text/plain": [
       "<IPython.core.display.Image object>"
      ]
     },
     "metadata": {},
     "output_type": "display_data"
    }
   ],
   "source": [
    "hs_reco_eff.Draw()\n",
    "canvas.Draw()"
   ]
  },
  {
   "cell_type": "code",
   "execution_count": 9,
   "id": "813ecfa0-8605-4dd6-b95c-d64972a20651",
   "metadata": {},
   "outputs": [
    {
     "data": {
      "image/png": "[encoded data removed]",
      "text/plain": [
       "<IPython.core.display.Image object>"
      ]
     },
     "metadata": {},
     "output_type": "display_data"
    }
   ],
   "source": [
    "hs_sel_eff.Draw()\n",
    "canvas.Draw()"
   ]
  },
  {
   "cell_type": "code",
   "execution_count": null,
   "id": "982848bd-9e28-4bab-9e91-df3459def562",
   "metadata": {},
   "outputs": [],
   "source": []
  }
 ],
 "metadata": {
  "kernelspec": {
   "display_name": "Python 3 (ipykernel)",
   "language": "python",
   "name": "python3"
  },
  "language_info": {
   "codemirror_mode": {
    "name": "ipython",
    "version": 3
   },
   "file_extension": ".py",
   "mimetype": "text/x-python",
   "name": "python",
   "nbconvert_exporter": "python",
   "pygments_lexer": "ipython3",
   "version": "3.9.7"
  }
 },
 "nbformat": 4,
 "nbformat_minor": 5
}
